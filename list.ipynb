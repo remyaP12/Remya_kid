{
  "nbformat": 4,
  "nbformat_minor": 0,
  "metadata": {
    "colab": {
      "provenance": [],
      "authorship_tag": "ABX9TyMa8B862CVrE7OYfyrO84K2",
      "include_colab_link": true
    },
    "kernelspec": {
      "name": "python3",
      "display_name": "Python 3"
    },
    "language_info": {
      "name": "python"
    }
  },
  "cells": [
    {
      "cell_type": "markdown",
      "metadata": {
        "id": "view-in-github",
        "colab_type": "text"
      },
      "source": [
        "<a href=\"https://colab.research.google.com/github/remyaP12/Remya_kid/blob/Remya_kidd/list.ipynb\" target=\"_parent\"><img src=\"https://colab.research.google.com/assets/colab-badge.svg\" alt=\"Open In Colab\"/></a>"
      ]
    },
    {
      "cell_type": "code",
      "execution_count": 1,
      "metadata": {
        "colab": {
          "base_uri": "https://localhost:8080/"
        },
        "id": "WIRP6Hoi-1Fb",
        "outputId": "4bc9da76-0f13-42d8-b054-f3c551f54d88"
      },
      "outputs": [
        {
          "output_type": "stream",
          "name": "stdout",
          "text": [
            "(2, [0, 0, 0, 0])\n"
          ]
        }
      ],
      "source": [
        "wordlist = [\"whom\", \"she \", \"who\", \"where\"]\n",
        "name = \"who\"\n",
        "def count_name_occurrences(wordlist, name):\n",
        "\n",
        "    # Initialize the result list for storing indices of occurrences\n",
        "    indices = []\n",
        "    # Initialize the count for how many words contain the name as a substring\n",
        "    count = 0\n",
        "\n",
        "    for word in wordlist:\n",
        "\n",
        "        index = word.find(name)\n",
        "        if index != -1:\n",
        "            indices.append(index)\n",
        "            count += 1\n",
        "        else:\n",
        "            indices.append(0)\n",
        "\n",
        "\n",
        "    return (count, indices)\n",
        "result= count_name_occurrences(wordlist, name)\n",
        "print(result)"
      ]
    }
  ]
}