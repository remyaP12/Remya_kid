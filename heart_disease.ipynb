{
  "nbformat": 4,
  "nbformat_minor": 0,
  "metadata": {
    "colab": {
      "provenance": [],
      "authorship_tag": "ABX9TyP2QNO4Hv634Hc8TAR5xJYR",
      "include_colab_link": true
    },
    "kernelspec": {
      "name": "python3",
      "display_name": "Python 3"
    },
    "language_info": {
      "name": "python"
    }
  },
  "cells": [
    {
      "cell_type": "markdown",
      "metadata": {
        "id": "view-in-github",
        "colab_type": "text"
      },
      "source": [
        "<a href=\"https://colab.research.google.com/github/remyaP12/Remya_kid/blob/Remya_kidd/heart_disease.ipynb\" target=\"_parent\"><img src=\"https://colab.research.google.com/assets/colab-badge.svg\" alt=\"Open In Colab\"/></a>"
      ]
    },
    {
      "cell_type": "markdown",
      "source": [],
      "metadata": {
        "id": "HRQFi7rYumKo"
      }
    },
    {
      "cell_type": "code",
      "execution_count": 4,
      "metadata": {
        "colab": {
          "base_uri": "https://localhost:8080/"
        },
        "id": "sSDasTpUuidw",
        "outputId": "4eb7a16e-e533-439f-8b30-b86853c7e86a"
      },
      "outputs": [
        {
          "output_type": "stream",
          "name": "stdout",
          "text": [
            "   age  sex  cp  trestbps  chol  fbs  restecg  thalach  exang  oldpeak  slope  \\\n",
            "0   63    1   3       145   233    1        0      150      0      2.3      0   \n",
            "1   37    1   2       130   250    0        1      187      0      3.5      0   \n",
            "2   41    0   1       130   204    0        0      172      0      1.4      2   \n",
            "3   56    1   1       120   236    0        1      178      0      0.8      2   \n",
            "4   57    0   0       120   354    0        1      163      1      0.6      2   \n",
            "\n",
            "   ca  thal  target  \n",
            "0   0     1       1  \n",
            "1   0     2       1  \n",
            "2   0     2       1  \n",
            "3   0     2       1  \n",
            "4   0     2       1  \n",
            "accuracy: 0.8688524590163934\n",
            "\n",
            "confusion report:\n",
            "               precision    recall  f1-score   support\n",
            "\n",
            "           0       0.86      0.86      0.86        29\n",
            "           1       0.88      0.88      0.88        32\n",
            "\n",
            "    accuracy                           0.87        61\n",
            "   macro avg       0.87      0.87      0.87        61\n",
            "weighted avg       0.87      0.87      0.87        61\n",
            "\n",
            "\n",
            "confusion matrix:\n",
            " [[25  4]\n",
            " [ 4 28]]\n",
            "accuracy: 0.819672131147541\n",
            "\n",
            "classification report:\n",
            "               precision    recall  f1-score   support\n",
            "\n",
            "           0       0.75      0.93      0.83        29\n",
            "           1       0.92      0.72      0.81        32\n",
            "\n",
            "    accuracy                           0.82        61\n",
            "   macro avg       0.83      0.82      0.82        61\n",
            "weighted avg       0.84      0.82      0.82        61\n",
            "\n",
            "\n",
            "confusion matrix:\n",
            " [[27  2]\n",
            " [ 9 23]]\n"
          ]
        }
      ],
      "source": [
        "\n",
        "import numpy as np\n",
        "import pandas as pd\n",
        "from sklearn.model_selection import train_test_split\n",
        "from sklearn.preprocessing import StandardScaler\n",
        "from sklearn.svm import SVC\n",
        "from sklearn.metrics import accuracy_score,classification_report,confusion_matrix\n",
        "\n",
        "heart_data=pd.read_csv(r\"/content/heart (1).csv\")\n",
        "print(heart_data.head())\n",
        "\n",
        "X= heart_data.drop('target',axis=1)\n",
        "Y= heart_data['target']\n",
        "\n",
        "X_train,X_test,Y_train,Y_test=train_test_split(X,Y,test_size=0.2,random_state=42)\n",
        "\n",
        "scaler=StandardScaler()\n",
        "X_train=scaler.fit_transform(X_train)\n",
        "X_test=scaler.transform(X_test)\n",
        "svm_classifier= SVC(kernel='linear',random_state=42)\n",
        "svm_classifier.fit(X_train,Y_train)\n",
        "Y_predict=svm_classifier.predict(X_test)\n",
        "\n",
        "accuracy =accuracy_score(Y_test,Y_predict)\n",
        "print(\"accuracy:\",accuracy)\n",
        "\n",
        "print(\"\\nconfusion report:\\n\",classification_report(Y_test,Y_predict))\n",
        "print(\"\\nconfusion matrix:\\n\",confusion_matrix(Y_test,Y_predict))\n",
        "\n",
        "import numpy as np\n",
        "import pandas as pd\n",
        "from sklearn.model_selection import train_test_split\n",
        "from sklearn.preprocessing import StandardScaler\n",
        "from sklearn.tree import DecisionTreeClassifier\n",
        "from sklearn.metrics import accuracy_score,classification_report,confusion_matrix\n",
        "\n",
        "heart_data=pd.read_csv(r\"/content/heart (1).csv\")\n",
        "\n",
        "X= heart_data.drop('target',axis=1)\n",
        "Y= heart_data['target']\n",
        "\n",
        "X_train,X_test,Y_train,Y_test=train_test_split(X,Y,test_size=0.2,random_state=42)\n",
        "\n",
        "scaler=StandardScaler()\n",
        "X_train=scaler.fit_transform(X_train)\n",
        "X_test=scaler.transform(X_test)\n",
        "\n",
        "dt_classifier= DecisionTreeClassifier()\n",
        "dt_classifier.fit(X_train,Y_train)\n",
        "Y_predict=dt_classifier.predict(X_test)\n",
        "accuracy=accuracy_score(Y_test,Y_predict)\n",
        "print(\"accuracy:\",accuracy)\n",
        "print(\"\\nclassification report:\\n\",classification_report(Y_test,Y_predict))\n",
        "print(\"\\nconfusion matrix:\\n\",confusion_matrix(Y_test,Y_predict))\n",
        "\n",
        "\n",
        "\n",
        "\n"
      ]
    }
  ]
}