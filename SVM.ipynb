{
  "nbformat": 4,
  "nbformat_minor": 0,
  "metadata": {
    "colab": {
      "provenance": [],
      "authorship_tag": "ABX9TyNWZP3TwfKZm4Bi+WYXJ2xZ",
      "include_colab_link": true
    },
    "kernelspec": {
      "name": "python3",
      "display_name": "Python 3"
    },
    "language_info": {
      "name": "python"
    }
  },
  "cells": [
    {
      "cell_type": "markdown",
      "metadata": {
        "id": "view-in-github",
        "colab_type": "text"
      },
      "source": [
        "<a href=\"https://colab.research.google.com/github/remyaP12/Remya_kid/blob/Remya_kidd/SVM.ipynb\" target=\"_parent\"><img src=\"https://colab.research.google.com/assets/colab-badge.svg\" alt=\"Open In Colab\"/></a>"
      ]
    },
    {
      "cell_type": "code",
      "execution_count": 1,
      "metadata": {
        "colab": {
          "base_uri": "https://localhost:8080/"
        },
        "id": "cQthPPEytpsC",
        "outputId": "779951eb-51f0-4eb3-b02d-a3a9eaf721d7"
      },
      "outputs": [
        {
          "output_type": "stream",
          "name": "stdout",
          "text": [
            "accuracy: 0.8\n",
            "not a two letter word\n"
          ]
        }
      ],
      "source": [
        "from sklearn import svm\n",
        "from sklearn.model_selection import train_test_split\n",
        "from sklearn.metrics import accuracy_score\n",
        "import numpy as np\n",
        "\n",
        "two_letter_words = ['ab','by','to','so','my','at','we','us','up','un','or','no','on']\n",
        "other_words=['three','four','five','six','seven','eight','nine','python','hello','eleven','fifteen','world']\n",
        "\n",
        "X=[word for word in two_letter_words + other_words]\n",
        "Y=[1] * len(two_letter_words)+[0]* len(other_words)\n",
        "\n",
        "def extract_feature(word):\n",
        "    features=np.zeros(26)\n",
        "    for char in word.lower():\n",
        "        if 'a' <= char <= 'z':\n",
        "            features[ord(char) - ord('a')] += 1\n",
        "    return features\n",
        "X = np.array([extract_feature(word) for word in X])\n",
        "X_train, X_test, Y_train ,Y_test = train_test_split(X,Y,test_size=0.2,random_state=42)\n",
        "\n",
        "model= svm.SVC(kernel='linear')\n",
        "model.fit(X_train,Y_train)\n",
        "\n",
        "Y_predict = model.predict(X_test)\n",
        "accuracy=accuracy_score(Y_test,Y_predict)\n",
        "print('accuracy:',accuracy)\n",
        "\n",
        "new_word='world'\n",
        "new_word_features = extract_feature(new_word)\n",
        "prediction=model.predict([new_word_features])\n",
        "\n",
        "if (prediction[0]==1):\n",
        "    print('two letter word')\n",
        "else:\n",
        "    print('not a two letter word')\n",
        "\n",
        "\n",
        "\n"
      ]
    }
  ]
}