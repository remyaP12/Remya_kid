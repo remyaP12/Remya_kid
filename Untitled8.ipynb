{
  "nbformat": 4,
  "nbformat_minor": 0,
  "metadata": {
    "colab": {
      "provenance": [],
      "authorship_tag": "ABX9TyNW3pU4DnyPrArAw/hJ52gu",
      "include_colab_link": true
    },
    "kernelspec": {
      "name": "python3",
      "display_name": "Python 3"
    },
    "language_info": {
      "name": "python"
    }
  },
  "cells": [
    {
      "cell_type": "markdown",
      "metadata": {
        "id": "view-in-github",
        "colab_type": "text"
      },
      "source": [
        "<a href=\"https://colab.research.google.com/github/remyaP12/Remya_kid/blob/Remya_kidd/Untitled8.ipynb\" target=\"_parent\"><img src=\"https://colab.research.google.com/assets/colab-badge.svg\" alt=\"Open In Colab\"/></a>"
      ]
    },
    {
      "cell_type": "code",
      "execution_count": 1,
      "metadata": {
        "colab": {
          "base_uri": "https://localhost:8080/"
        },
        "id": "WIRP6Hoi-1Fb",
        "outputId": "4bc9da76-0f13-42d8-b054-f3c551f54d88"
      },
      "outputs": [
        {
          "output_type": "stream",
          "name": "stdout",
          "text": [
            "(2, [0, 0, 0, 0])\n"
          ]
        }
      ],
      "source": [
        "wordlist = [\"whom\", \"she \", \"who\", \"where\"]\n",
        "name = \"who\"\n",
        "def count_name_occurrences(wordlist, name):\n",
        "\n",
        "    # Initialize the result list for storing indices of occurrences\n",
        "    indices = []\n",
        "    # Initialize the count for how many words contain the name as a substring\n",
        "    count = 0\n",
        "\n",
        "    for word in wordlist:\n",
        "\n",
        "        index = word.find(name)\n",
        "        if index != -1:\n",
        "            indices.append(index)\n",
        "            count += 1\n",
        "        else:\n",
        "            indices.append(0)\n",
        "\n",
        "\n",
        "    return (count, indices)\n",
        "result= count_name_occurrences(wordlist, name)\n",
        "print(result)"
      ]
    },
    {
      "cell_type": "code",
      "source": [
        "import pandas as pd\n"
      ],
      "metadata": {
        "id": "33Idxqk6_1TO"
      },
      "execution_count": 2,
      "outputs": []
    },
    {
      "cell_type": "code",
      "source": [
        "df = pd.read_csv(\"Automobile.csv\")\n",
        "\n",
        "# Display the first few rows of the dataframe to check the data structure\n",
        "print(df.head())\n",
        "\n",
        "# Clean and Update the CSV file:\n",
        "# - Remove rows with missing or NaN values in critical columns (e.g., 'origin', 'company name', 'year', etc.)\n",
        "# - Ensure numerical columns are properly converted to the correct data type\n",
        "df = df.dropna(subset=['name','mpg','cylinders','displacement','horsepower','weight','acceleration','model_year','origin'])\n",
        "\n",
        "# Convert numeric columns to the correct type (if they are not already)\n",
        "df['model_year'] = df['model_year'].astype(int)\n",
        "df['cylinders'] = df['cylinders'].astype(int)\n",
        "df['displacement'] = pd.to_numeric(df['displacement'], errors='coerce')\n",
        "df['mpg'] = pd.to_numeric(df['mpg'], errors='coerce')\n",
        "df['horsepower'] = pd.to_numeric(df['horsepower'], errors='coerce')\n",
        "df['weight'] = pd.to_numeric(df['weight'], errors='coerce')\n",
        "df['acceleration'] = pd.to_numeric(df['acceleration'], errors='coerce')\n",
        "\n",
        "# Fill or drop any remaining NaN values after conversion\n",
        "df = df.dropna()\n",
        "\n",
        "# Save the cleaned data back to CSV\n",
        "df.to_csv(\"cleaned_auto.csv\", index=False)\n",
        "\n",
        "# Print total cars of all companies\n",
        "car_counts = df['name'].value_counts()\n",
        "print(\"\\nTotal cars by company:\")\n",
        "print(car_counts)\n",
        "\n",
        "# Find the average mileage of all companies\n",
        "average_mileage = df.groupby('name')['mpg'].mean()\n",
        "print(\"\\nAverage mileage of all companies:\")\n",
        "print(average_mileage)"
      ],
      "metadata": {
        "colab": {
          "base_uri": "https://localhost:8080/"
        },
        "id": "rCgtYRXlAUD9",
        "outputId": "401e564d-20ef-47b5-a832-0431c038e2cc"
      },
      "execution_count": 8,
      "outputs": [
        {
          "output_type": "stream",
          "name": "stdout",
          "text": [
            "                        name   mpg  cylinders  displacement  horsepower  \\\n",
            "0  chevrolet chevelle malibu  18.0          8         307.0       130.0   \n",
            "1          buick skylark 320  15.0          8         350.0       165.0   \n",
            "2         plymouth satellite  18.0          8         318.0       150.0   \n",
            "3              amc rebel sst  16.0          8         304.0       150.0   \n",
            "4                ford torino  17.0          8         302.0       140.0   \n",
            "\n",
            "   weight  acceleration  model_year origin  \n",
            "0    3504          12.0          70    usa  \n",
            "1    3693          11.5          70    usa  \n",
            "2    3436          11.0          70    usa  \n",
            "3    3433          12.0          70    usa  \n",
            "4    3449          10.5          70    usa  \n",
            "\n",
            "Total cars by company:\n",
            "name\n",
            "amc matador            5\n",
            "ford pinto             5\n",
            "toyota corolla         5\n",
            "toyota corona          4\n",
            "amc hornet             4\n",
            "                      ..\n",
            "buick skyhawk          1\n",
            "chevrolet monza 2+2    1\n",
            "ford mustang ii        1\n",
            "pontiac astro          1\n",
            "chevy s-10             1\n",
            "Name: count, Length: 301, dtype: int64\n",
            "\n",
            "Average mileage of all companies:\n",
            "name\n",
            "amc ambassador brougham    13.00\n",
            "amc ambassador dpl         15.00\n",
            "amc ambassador sst         17.00\n",
            "amc concord                21.85\n",
            "amc concord d/l            18.10\n",
            "                           ...  \n",
            "vw dasher (diesel)         43.40\n",
            "vw pickup                  44.00\n",
            "vw rabbit                  35.25\n",
            "vw rabbit c (diesel)       44.30\n",
            "vw rabbit custom           31.90\n",
            "Name: mpg, Length: 301, dtype: float64\n"
          ]
        },
        {
          "output_type": "stream",
          "name": "stderr",
          "text": [
            "<ipython-input-8-1a14caf21e71>:12: SettingWithCopyWarning: \n",
            "A value is trying to be set on a copy of a slice from a DataFrame.\n",
            "Try using .loc[row_indexer,col_indexer] = value instead\n",
            "\n",
            "See the caveats in the documentation: https://pandas.pydata.org/pandas-docs/stable/user_guide/indexing.html#returning-a-view-versus-a-copy\n",
            "  df['model_year'] = df['model_year'].astype(int)\n",
            "<ipython-input-8-1a14caf21e71>:13: SettingWithCopyWarning: \n",
            "A value is trying to be set on a copy of a slice from a DataFrame.\n",
            "Try using .loc[row_indexer,col_indexer] = value instead\n",
            "\n",
            "See the caveats in the documentation: https://pandas.pydata.org/pandas-docs/stable/user_guide/indexing.html#returning-a-view-versus-a-copy\n",
            "  df['cylinders'] = df['cylinders'].astype(int)\n",
            "<ipython-input-8-1a14caf21e71>:14: SettingWithCopyWarning: \n",
            "A value is trying to be set on a copy of a slice from a DataFrame.\n",
            "Try using .loc[row_indexer,col_indexer] = value instead\n",
            "\n",
            "See the caveats in the documentation: https://pandas.pydata.org/pandas-docs/stable/user_guide/indexing.html#returning-a-view-versus-a-copy\n",
            "  df['displacement'] = pd.to_numeric(df['displacement'], errors='coerce')\n",
            "<ipython-input-8-1a14caf21e71>:15: SettingWithCopyWarning: \n",
            "A value is trying to be set on a copy of a slice from a DataFrame.\n",
            "Try using .loc[row_indexer,col_indexer] = value instead\n",
            "\n",
            "See the caveats in the documentation: https://pandas.pydata.org/pandas-docs/stable/user_guide/indexing.html#returning-a-view-versus-a-copy\n",
            "  df['mpg'] = pd.to_numeric(df['mpg'], errors='coerce')\n",
            "<ipython-input-8-1a14caf21e71>:16: SettingWithCopyWarning: \n",
            "A value is trying to be set on a copy of a slice from a DataFrame.\n",
            "Try using .loc[row_indexer,col_indexer] = value instead\n",
            "\n",
            "See the caveats in the documentation: https://pandas.pydata.org/pandas-docs/stable/user_guide/indexing.html#returning-a-view-versus-a-copy\n",
            "  df['horsepower'] = pd.to_numeric(df['horsepower'], errors='coerce')\n",
            "<ipython-input-8-1a14caf21e71>:17: SettingWithCopyWarning: \n",
            "A value is trying to be set on a copy of a slice from a DataFrame.\n",
            "Try using .loc[row_indexer,col_indexer] = value instead\n",
            "\n",
            "See the caveats in the documentation: https://pandas.pydata.org/pandas-docs/stable/user_guide/indexing.html#returning-a-view-versus-a-copy\n",
            "  df['weight'] = pd.to_numeric(df['weight'], errors='coerce')\n",
            "<ipython-input-8-1a14caf21e71>:18: SettingWithCopyWarning: \n",
            "A value is trying to be set on a copy of a slice from a DataFrame.\n",
            "Try using .loc[row_indexer,col_indexer] = value instead\n",
            "\n",
            "See the caveats in the documentation: https://pandas.pydata.org/pandas-docs/stable/user_guide/indexing.html#returning-a-view-versus-a-copy\n",
            "  df['acceleration'] = pd.to_numeric(df['acceleration'], errors='coerce')\n"
          ]
        }
      ]
    },
    {
      "cell_type": "code",
      "source": [],
      "metadata": {
        "id": "qxYhjqSLEOIe"
      },
      "execution_count": null,
      "outputs": []
    }
  ]
}