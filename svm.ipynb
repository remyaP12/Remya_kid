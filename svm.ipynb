{
  "nbformat": 4,
  "nbformat_minor": 0,
  "metadata": {
    "colab": {
      "provenance": [],
      "authorship_tag": "ABX9TyPsWCAmmpcdu5XilcaYmURw",
      "include_colab_link": true
    },
    "kernelspec": {
      "name": "python3",
      "display_name": "Python 3"
    },
    "language_info": {
      "name": "python"
    }
  },
  "cells": [
    {
      "cell_type": "markdown",
      "metadata": {
        "id": "view-in-github",
        "colab_type": "text"
      },
      "source": [
        "<a href=\"https://colab.research.google.com/github/remyaP12/Remya_kid/blob/Remya_kidd/svm.ipynb\" target=\"_parent\"><img src=\"https://colab.research.google.com/assets/colab-badge.svg\" alt=\"Open In Colab\"/></a>"
      ]
    },
    {
      "cell_type": "code",
      "execution_count": 1,
      "metadata": {
        "colab": {
          "base_uri": "https://localhost:8080/"
        },
        "id": "wDs6a46vpV8_",
        "outputId": "9ba7e8b3-9fd5-462e-ff6e-965344d23663"
      },
      "outputs": [
        {
          "output_type": "stream",
          "name": "stdout",
          "text": [
            "              precision    recall  f1-score   support\n",
            "\n",
            "           0       0.96      0.52      0.67       132\n",
            "           1       0.02      0.25      0.03         4\n",
            "\n",
            "    accuracy                           0.51       136\n",
            "   macro avg       0.49      0.38      0.35       136\n",
            "weighted avg       0.93      0.51      0.65       136\n",
            "\n",
            "Classification for 'is': Valid two-letter word\n"
          ]
        }
      ],
      "source": [
        "import numpy as np\n",
        "from sklearn import svm\n",
        "from sklearn.model_selection import train_test_split\n",
        "from sklearn.metrics import classification_report\n",
        "\n",
        "# Example list of valid 2-letter words in English (expand this list if needed)\n",
        "valid_two_letter_words = set([\n",
        "    \"is\", \"it\", \"at\", \"to\", \"in\", \"on\", \"by\", \"he\", \"we\", \"me\", \"of\", \"do\", \"no\", \"up\", \"go\", \"am\", \"as\"\n",
        "])\n",
        "\n",
        "# Generate all possible two-letter sequences (valid and invalid)\n",
        "all_combinations = []\n",
        "for i in range(26):\n",
        "    for j in range(26):\n",
        "        pair = chr(97 + i) + chr(97 + j)  # Create two-letter pair (e.g., \"aa\", \"ab\", ..., \"zz\")\n",
        "        all_combinations.append(pair)\n",
        "\n",
        "# Label the sequences: 1 for valid, 0 for invalid\n",
        "data = []\n",
        "labels = []\n",
        "\n",
        "for combination in all_combinations:\n",
        "    data.append([ord(combination[0]), ord(combination[1])])  # Use ASCII values as features\n",
        "    if combination in valid_two_letter_words:\n",
        "        labels.append(1)  # Valid two-letter word\n",
        "    else:\n",
        "        labels.append(0)  # Invalid two-letter word\n",
        "\n",
        "# Convert to numpy arrays\n",
        "X = np.array(data)\n",
        "y = np.array(labels)\n",
        "\n",
        "# Split the dataset into training and testing sets\n",
        "X_train, X_test, y_train, y_test = train_test_split(X, y, test_size=0.2, random_state=42)\n",
        "\n",
        "# Create an SVM model with a linear kernel and balanced class weights\n",
        "svm_model = svm.SVC(kernel='linear', class_weight='balanced', random_state=42)\n",
        "\n",
        "# Train the model\n",
        "svm_model.fit(X_train, y_train)\n",
        "\n",
        "# Make predictions on the test set\n",
        "y_pred = svm_model.predict(X_test)\n",
        "\n",
        "# Evaluate the model\n",
        "print(classification_report(y_test, y_pred))\n",
        "\n",
        "# Now we can classify a new two-letter sequence\n",
        "def classify_pair(pair):\n",
        "    pair = pair.lower()\n",
        "    if len(pair) != 2:\n",
        "        return \"Invalid input: not a two-letter word\"\n",
        "    pair_features = np.array([[ord(pair[0]), ord(pair[1])]])\n",
        "    prediction = svm_model.predict(pair_features)\n",
        "    return \"Valid two-letter word\" if prediction == 1 else \"Invalid two-letter word\"\n",
        "\n",
        "# Test the model with a custom pair\n",
        "test_pair = \"is\"\n",
        "print(f\"Classification for '{test_pair}': {classify_pair(test_pair)}\")"
      ]
    }
  ]
}