{
  "nbformat": 4,
  "nbformat_minor": 0,
  "metadata": {
    "colab": {
      "provenance": [],
      "authorship_tag": "ABX9TyNJ2v9h5NIR4urjdLbQmbnx",
      "include_colab_link": true
    },
    "kernelspec": {
      "name": "python3",
      "display_name": "Python 3"
    },
    "language_info": {
      "name": "python"
    }
  },
  "cells": [
    {
      "cell_type": "markdown",
      "metadata": {
        "id": "view-in-github",
        "colab_type": "text"
      },
      "source": [
        "<a href=\"https://colab.research.google.com/github/remyaP12/Remya_kid/blob/Remya_kidd/admission3.ipynb\" target=\"_parent\"><img src=\"https://colab.research.google.com/assets/colab-badge.svg\" alt=\"Open In Colab\"/></a>"
      ]
    },
    {
      "cell_type": "code",
      "execution_count": 1,
      "metadata": {
        "colab": {
          "base_uri": "https://localhost:8080/"
        },
        "id": "0cZfgqTyL4xh",
        "outputId": "647e2014-2354-4aaa-d48c-c6f4a6da6377"
      },
      "outputs": [
        {
          "output_type": "stream",
          "name": "stdout",
          "text": [
            "Number of children attending the fair: 1500\n",
            "Number of adults attending the fair: 700\n"
          ]
        }
      ],
      "source": [
        "from sympy import symbols,Eq,solve\n",
        "x,y=symbols('x y')\n",
        "#Linear equations\n",
        "equation1=Eq(x+y,2200)\n",
        "equation2=Eq(1.5*x+4*y,5050)\n",
        "#Solution to those equations\n",
        "solution=solve((equation1,equation2),(x,y))\n",
        "child_count=solution[x]\n",
        "adult_count=solution[y]\n",
        "print(\"Number of children attending the fair:\",int(child_count))\n",
        "print(\"Number of adults attending the fair:\",int(adult_count))"
      ]
    }
  ]
}