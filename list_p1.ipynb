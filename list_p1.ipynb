{
  "nbformat": 4,
  "nbformat_minor": 0,
  "metadata": {
    "colab": {
      "provenance": [],
      "authorship_tag": "ABX9TyP2mimwH/pWxBgwWwm9Udi+",
      "include_colab_link": true
    },
    "kernelspec": {
      "name": "python3",
      "display_name": "Python 3"
    },
    "language_info": {
      "name": "python"
    }
  },
  "cells": [
    {
      "cell_type": "markdown",
      "metadata": {
        "id": "view-in-github",
        "colab_type": "text"
      },
      "source": [
        "<a href=\"https://colab.research.google.com/github/remyaP12/Remya_kid/blob/Remya_kidd/list_p1.ipynb\" target=\"_parent\"><img src=\"https://colab.research.google.com/assets/colab-badge.svg\" alt=\"Open In Colab\"/></a>"
      ]
    },
    {
      "cell_type": "code",
      "execution_count": 1,
      "metadata": {
        "colab": {
          "base_uri": "https://localhost:8080/"
        },
        "id": "ig5UBvYfgih2",
        "outputId": "6ec26a38-6508-4b6f-e521-7e407bf240a0"
      },
      "outputs": [
        {
          "output_type": "stream",
          "name": "stdout",
          "text": [
            "(2, [0, 0, 4, 0, 0])\n"
          ]
        }
      ],
      "source": [
        "def find_name_in_words(wordlist, name):\n",
        "    # Initialize the list to store the indexes and count for matches\n",
        "    indexes = []\n",
        "    count = 0\n",
        "\n",
        "    for word in wordlist:\n",
        "        # Check if 'name' is a substring of 'word'\n",
        "        index = word.find(name)\n",
        "\n",
        "        # If 'name' is found, update the count and append the index\n",
        "        if index != -1:\n",
        "            count += 1\n",
        "            indexes.append(index)\n",
        "        else:\n",
        "            # Append 0 if 'name' is not found\n",
        "            indexes.append(0)\n",
        "\n",
        "    # Return the tuple (count, indexes)\n",
        "    return (count, indexes)\n",
        "\n",
        "# Example usage\n",
        "wordlist = [\"apple\", \"banana\", \"pineapple\", \"grape\", \"orange\"]\n",
        "name = \"apple\"\n",
        "result = find_name_in_words(wordlist, name)\n",
        "print(result)\n"
      ]
    }
  ]
}