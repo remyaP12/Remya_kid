{
  "nbformat": 4,
  "nbformat_minor": 0,
  "metadata": {
    "colab": {
      "provenance": [],
      "authorship_tag": "ABX9TyPbYCXChlyXb5tCiGXtV+uI",
      "include_colab_link": true
    },
    "kernelspec": {
      "name": "python3",
      "display_name": "Python 3"
    },
    "language_info": {
      "name": "python"
    }
  },
  "cells": [
    {
      "cell_type": "markdown",
      "metadata": {
        "id": "view-in-github",
        "colab_type": "text"
      },
      "source": [
        "<a href=\"https://colab.research.google.com/github/remyaP12/Remya_kid/blob/Remya_kidd/house_Furniture.ipynb\" target=\"_parent\"><img src=\"https://colab.research.google.com/assets/colab-badge.svg\" alt=\"Open In Colab\"/></a>"
      ]
    },
    {
      "cell_type": "code",
      "source": [
        "import math\n",
        "import pandas as pd\n",
        "def calculate_entropy(data):\n",
        "    total=len(data)\n",
        "    counts=data.value_counts()\n",
        "    entropy=-sum((count/total)*math.log2(count/total) for count in counts)\n",
        "    return entropy\n",
        "def calculate_information_gain(data,attributes,target):\n",
        "    total_entropy=calculate_entropy(data[target])\n",
        "    total=len(data)\n",
        "\n",
        "    grouped=data.groupby(attributes)\n",
        "    weighted_entropy= sum (\n",
        "        (len(group) / total) * calculate_entropy(group[target])\n",
        "        for _ ,  group in grouped\n",
        "        )\n",
        "    information_gain=total_entropy-weighted_entropy\n",
        "    return information_gain\n",
        "data=pd.DataFrame({\n",
        "    \"furniture\":[\"no\",\"yes\",\"no\",\"yes\",\"yes\"],\n",
        "    \"no. rooms\":[3,2,3,4,1],\n",
        "    \"kitchen\":[\"yes\",\"no\",\"no\",\"no\",\"yes\"],\n",
        "    \"acceptable\":[\"yes\",\"no\",\"yes\",\"no\",\"yes\"]\n",
        "    })\n",
        "\n",
        "target_entropy=calculate_entropy(data[\"acceptable\"])\n",
        "print(f\"entropy of target(acceptable):{target_entropy}\")\n",
        "\n",
        "attributes=[\"furniture\",\"no. rooms\",\"kitchen\"]\n",
        "info_gains={attr: calculate_information_gain(data, attr, \"acceptable\") for attr in attributes}\n",
        "\n",
        "print(\"information gain for each attribute:\")\n",
        "for attr,gain in info_gains.items():\n",
        "    print(f\"{attr}:{gain}\")\n",
        "\n",
        "    best_attribute=max(info_gains,key=info_gains.get)\n",
        "    print(f\"\\nbest attribute to split:{best_attribute}\")"
      ],
      "metadata": {
        "colab": {
          "base_uri": "https://localhost:8080/"
        },
        "id": "RX5etSKHoSca",
        "outputId": "70fc9b7a-408a-45bc-9ec6-9e7e44921baf"
      },
      "execution_count": 11,
      "outputs": [
        {
          "output_type": "stream",
          "name": "stdout",
          "text": [
            "entropy of target(acceptable):0.9709505944546686\n",
            "information gain for each attribute:\n",
            "furniture:0.4199730940219749\n",
            "\n",
            "best attribute to split:no. rooms\n",
            "no. rooms:0.9709505944546686\n",
            "\n",
            "best attribute to split:no. rooms\n",
            "kitchen:0.4199730940219749\n",
            "\n",
            "best attribute to split:no. rooms\n"
          ]
        }
      ]
    }
  ]
}