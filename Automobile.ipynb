{
  "nbformat": 4,
  "nbformat_minor": 0,
  "metadata": {
    "colab": {
      "provenance": [],
      "authorship_tag": "ABX9TyN62RQ7msqHNf6qfUWTwluR",
      "include_colab_link": true
    },
    "kernelspec": {
      "name": "python3",
      "display_name": "Python 3"
    },
    "language_info": {
      "name": "python"
    }
  },
  "cells": [
    {
      "cell_type": "markdown",
      "metadata": {
        "id": "view-in-github",
        "colab_type": "text"
      },
      "source": [
        "<a href=\"https://colab.research.google.com/github/remyaP12/Remya_kid/blob/Remya_kidd/Automobile.ipynb\" target=\"_parent\"><img src=\"https://colab.research.google.com/assets/colab-badge.svg\" alt=\"Open In Colab\"/></a>"
      ]
    },
    {
      "cell_type": "code",
      "source": [
        "import pandas as pd\n"
      ],
      "metadata": {
        "id": "33Idxqk6_1TO"
      },
      "execution_count": null,
      "outputs": []
    },
    {
      "cell_type": "code",
      "source": [
        "import pandas as pd\n",
        "\n",
        "# Load the data from the CSV file\n",
        "df = pd.read_csv(\"Automobile.csv\")\n",
        "\n",
        "# Clean and Update the data:\n",
        "# Remove rows with missing values in critical columns\n",
        "df = df.dropna(subset=['name','mpg','cylinders','displacement','horsepower','weight','acceleration','model_year','origin'])\n",
        "\n",
        "\n",
        "# Use .loc to ensure proper assignment and avoid the SettingWithCopyWarning\n",
        "df.loc[:, 'year'] = df['model_year'].astype(int)\n",
        "df.loc[:, 'cylinders'] = df['cylinders'].astype(int)\n",
        "df.loc[:, 'displacement'] = pd.to_numeric(df['displacement'], errors='coerce')\n",
        "df.loc[:, 'mpg'] = pd.to_numeric(df['mpg'], errors='coerce')\n",
        "df.loc[:, 'horsepower'] = pd.to_numeric(df['horsepower'], errors='coerce')\n",
        "df.loc[:, 'weight'] = pd.to_numeric(df['weight'], errors='coerce')\n",
        "df.loc[:, 'acceleration'] = pd.to_numeric(df['acceleration'], errors='coerce')\n",
        "\n",
        "# Drop rows with NaN values after the conversion to ensure clean data\n",
        "df = df.dropna()\n",
        "\n",
        "# Save the cleaned data back to a new CSV file\n",
        "df.to_csv(\"cleaned_auto.csv\", index=False)\n",
        "\n",
        "# Display the cleaned data (Optional)\n",
        "print(df.head())\n",
        "\n",
        "\n",
        "\n",
        "\n",
        "\n",
        "\n"
      ],
      "metadata": {
        "colab": {
          "base_uri": "https://localhost:8080/"
        },
        "id": "rCgtYRXlAUD9",
        "outputId": "bbf64dee-50d5-40f9-ef92-7e86ad7b5c9e"
      },
      "execution_count": 7,
      "outputs": [
        {
          "output_type": "stream",
          "name": "stdout",
          "text": [
            "                        name   mpg  cylinders  displacement  horsepower  \\\n",
            "0  chevrolet chevelle malibu  18.0          8         307.0       130.0   \n",
            "1          buick skylark 320  15.0          8         350.0       165.0   \n",
            "2         plymouth satellite  18.0          8         318.0       150.0   \n",
            "3              amc rebel sst  16.0          8         304.0       150.0   \n",
            "4                ford torino  17.0          8         302.0       140.0   \n",
            "\n",
            "   weight  acceleration  model_year origin  year  \n",
            "0    3504          12.0          70    usa    70  \n",
            "1    3693          11.5          70    usa    70  \n",
            "2    3436          11.0          70    usa    70  \n",
            "3    3433          12.0          70    usa    70  \n",
            "4    3449          10.5          70    usa    70  \n"
          ]
        }
      ]
    },
    {
      "cell_type": "code",
      "source": [
        "# Print total cars of all companies\n",
        "car_counts = df['name'].value_counts()\n",
        "print(\"\\nTotal cars by company:\")\n",
        "print(car_counts)\n",
        "\n",
        "# Find the average mileage of all companies\n",
        "average_mileage = df.groupby('name')['mpg'].mean()\n",
        "print(\"\\nAverage mileage of all companies:\")\n",
        "print(average_mileage)\n",
        ""
      ],
      "metadata": {
        "colab": {
          "base_uri": "https://localhost:8080/"
        },
        "id": "n5bnYoJoJdA_",
        "outputId": "838a7b5d-e253-49bb-c56f-f20909bde625"
      },
      "execution_count": 8,
      "outputs": [
        {
          "output_type": "stream",
          "name": "stdout",
          "text": [
            "\n",
            "Total cars by company:\n",
            "name\n",
            "amc matador            5\n",
            "ford pinto             5\n",
            "toyota corolla         5\n",
            "toyota corona          4\n",
            "amc hornet             4\n",
            "                      ..\n",
            "buick skyhawk          1\n",
            "chevrolet monza 2+2    1\n",
            "ford mustang ii        1\n",
            "pontiac astro          1\n",
            "chevy s-10             1\n",
            "Name: count, Length: 301, dtype: int64\n",
            "\n",
            "Average mileage of all companies:\n",
            "name\n",
            "amc ambassador brougham    13.00\n",
            "amc ambassador dpl         15.00\n",
            "amc ambassador sst         17.00\n",
            "amc concord                21.85\n",
            "amc concord d/l            18.10\n",
            "                           ...  \n",
            "vw dasher (diesel)         43.40\n",
            "vw pickup                  44.00\n",
            "vw rabbit                  35.25\n",
            "vw rabbit c (diesel)       44.30\n",
            "vw rabbit custom           31.90\n",
            "Name: mpg, Length: 301, dtype: float64\n"
          ]
        }
      ]
    },
    {
      "cell_type": "code",
      "source": [],
      "metadata": {
        "id": "hNLVmc9nHmvv"
      },
      "execution_count": null,
      "outputs": []
    }
  ]
}