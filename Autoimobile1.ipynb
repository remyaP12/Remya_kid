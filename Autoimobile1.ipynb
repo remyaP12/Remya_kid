{
  "nbformat": 4,
  "nbformat_minor": 0,
  "metadata": {
    "colab": {
      "provenance": [],
      "authorship_tag": "ABX9TyPLCuYtFIJKa6s6Brtm486W",
      "include_colab_link": true
    },
    "kernelspec": {
      "name": "python3",
      "display_name": "Python 3"
    },
    "language_info": {
      "name": "python"
    }
  },
  "cells": [
    {
      "cell_type": "markdown",
      "metadata": {
        "id": "view-in-github",
        "colab_type": "text"
      },
      "source": [
        "<a href=\"https://colab.research.google.com/github/remyaP12/Remya_kid/blob/main/Autoimobile1.ipynb\" target=\"_parent\"><img src=\"https://colab.research.google.com/assets/colab-badge.svg\" alt=\"Open In Colab\"/></a>"
      ]
    },
    {
      "cell_type": "code",
      "source": [
        "import pandas as pd\n"
      ],
      "metadata": {
        "id": "33Idxqk6_1TO"
      },
      "execution_count": null,
      "outputs": []
    },
    {
      "cell_type": "code",
      "source": [
        "import pandas as pd\n",
        "\n",
        "# Load the data from the CSV file\n",
        "df = pd.read_csv(\"Automobile.csv\")\n",
        "\n",
        "# Display the first few rows of the dataframe to inspect the data structure\n",
        "print(\"Initial Data Preview:\")\n",
        "print(df.head())\n",
        "\n",
        "# CLEANING THE DATA\n",
        "# Remove rows with any missing values in the relevant columns\n",
        "df = df.dropna(subset=['origin', 'name', 'model_year', 'cylinders', 'displacement', 'mpg', 'horsepower', 'weight', 'acceleration'])\n",
        "\n",
        "# Convert columns to appropriate data types if necessary\n",
        "df['model_year'] = df['model_year'].astype(int)\n",
        "df['cylinders'] = df['cylinders'].astype(int)\n",
        "df['displacement'] = pd.to_numeric(df['displacement'], errors='coerce')\n",
        "df['mpg'] = pd.to_numeric(df['mpg'], errors='coerce')\n",
        "df['horsepower'] = pd.to_numeric(df['horsepower'], errors='coerce')\n",
        "df['weight'] = pd.to_numeric(df['weight'], errors='coerce')\n"
      ],
      "metadata": {
        "colab": {
          "base_uri": "https://localhost:8080/"
        },
        "id": "rCgtYRXlAUD9",
        "outputId": "f6421c23-5b42-4de0-e92e-3d9f8f5b34f9"
      },
      "execution_count": 5,
      "outputs": [
        {
          "output_type": "stream",
          "name": "stdout",
          "text": [
            "Initial Data Preview:\n",
            "                        name   mpg  cylinders  displacement  horsepower  \\\n",
            "0  chevrolet chevelle malibu  18.0          8         307.0       130.0   \n",
            "1          buick skylark 320  15.0          8         350.0       165.0   \n",
            "2         plymouth satellite  18.0          8         318.0       150.0   \n",
            "3              amc rebel sst  16.0          8         304.0       150.0   \n",
            "4                ford torino  17.0          8         302.0       140.0   \n",
            "\n",
            "   weight  acceleration  model_year origin  \n",
            "0    3504          12.0          70    usa  \n",
            "1    3693          11.5          70    usa  \n",
            "2    3436          11.0          70    usa  \n",
            "3    3433          12.0          70    usa  \n",
            "4    3449          10.5          70    usa  \n"
          ]
        },
        {
          "output_type": "stream",
          "name": "stderr",
          "text": [
            "<ipython-input-5-b8083500eca0>:15: SettingWithCopyWarning: \n",
            "A value is trying to be set on a copy of a slice from a DataFrame.\n",
            "Try using .loc[row_indexer,col_indexer] = value instead\n",
            "\n",
            "See the caveats in the documentation: https://pandas.pydata.org/pandas-docs/stable/user_guide/indexing.html#returning-a-view-versus-a-copy\n",
            "  df['model_year'] = df['model_year'].astype(int)\n",
            "<ipython-input-5-b8083500eca0>:16: SettingWithCopyWarning: \n",
            "A value is trying to be set on a copy of a slice from a DataFrame.\n",
            "Try using .loc[row_indexer,col_indexer] = value instead\n",
            "\n",
            "See the caveats in the documentation: https://pandas.pydata.org/pandas-docs/stable/user_guide/indexing.html#returning-a-view-versus-a-copy\n",
            "  df['cylinders'] = df['cylinders'].astype(int)\n",
            "<ipython-input-5-b8083500eca0>:17: SettingWithCopyWarning: \n",
            "A value is trying to be set on a copy of a slice from a DataFrame.\n",
            "Try using .loc[row_indexer,col_indexer] = value instead\n",
            "\n",
            "See the caveats in the documentation: https://pandas.pydata.org/pandas-docs/stable/user_guide/indexing.html#returning-a-view-versus-a-copy\n",
            "  df['displacement'] = pd.to_numeric(df['displacement'], errors='coerce')\n",
            "<ipython-input-5-b8083500eca0>:18: SettingWithCopyWarning: \n",
            "A value is trying to be set on a copy of a slice from a DataFrame.\n",
            "Try using .loc[row_indexer,col_indexer] = value instead\n",
            "\n",
            "See the caveats in the documentation: https://pandas.pydata.org/pandas-docs/stable/user_guide/indexing.html#returning-a-view-versus-a-copy\n",
            "  df['mpg'] = pd.to_numeric(df['mpg'], errors='coerce')\n",
            "<ipython-input-5-b8083500eca0>:19: SettingWithCopyWarning: \n",
            "A value is trying to be set on a copy of a slice from a DataFrame.\n",
            "Try using .loc[row_indexer,col_indexer] = value instead\n",
            "\n",
            "See the caveats in the documentation: https://pandas.pydata.org/pandas-docs/stable/user_guide/indexing.html#returning-a-view-versus-a-copy\n",
            "  df['horsepower'] = pd.to_numeric(df['horsepower'], errors='coerce')\n",
            "<ipython-input-5-b8083500eca0>:20: SettingWithCopyWarning: \n",
            "A value is trying to be set on a copy of a slice from a DataFrame.\n",
            "Try using .loc[row_indexer,col_indexer] = value instead\n",
            "\n",
            "See the caveats in the documentation: https://pandas.pydata.org/pandas-docs/stable/user_guide/indexing.html#returning-a-view-versus-a-copy\n",
            "  df['weight'] = pd.to_numeric(df['weight'], errors='coerce')\n"
          ]
        }
      ]
    },
    {
      "cell_type": "code",
      "source": [],
      "metadata": {
        "id": "hNLVmc9nHmvv"
      },
      "execution_count": null,
      "outputs": []
    }
  ]
}