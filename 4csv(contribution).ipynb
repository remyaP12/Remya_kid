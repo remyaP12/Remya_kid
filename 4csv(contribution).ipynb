{
  "nbformat": 4,
  "nbformat_minor": 0,
  "metadata": {
    "colab": {
      "provenance": [],
      "authorship_tag": "ABX9TyMdzZyOxo90mYk54+fd+I83",
      "include_colab_link": true
    },
    "kernelspec": {
      "name": "python3",
      "display_name": "Python 3"
    },
    "language_info": {
      "name": "python"
    }
  },
  "cells": [
    {
      "cell_type": "markdown",
      "metadata": {
        "id": "view-in-github",
        "colab_type": "text"
      },
      "source": [
        "<a href=\"https://colab.research.google.com/github/remyaP12/Remya_kid/blob/Remya_kidd/4csv(contribution).ipynb\" target=\"_parent\"><img src=\"https://colab.research.google.com/assets/colab-badge.svg\" alt=\"Open In Colab\"/></a>"
      ]
    },
    {
      "cell_type": "code",
      "execution_count": 1,
      "metadata": {
        "colab": {
          "base_uri": "https://localhost:8080/"
        },
        "id": "wc4E8_UPMn64",
        "outputId": "28607023-d53f-491a-e1f2-7aa337e04384"
      },
      "outputs": [
        {
          "output_type": "stream",
          "name": "stdout",
          "text": [
            "Data written to 'contributors.csv'\n"
          ]
        }
      ],
      "source": [
        "import csv\n",
        "\n",
        "# Data to be written to the CSV file\n",
        "data = [\n",
        "    [\"SN\", \"Name\", \"Country\", \"Contribution\", \"Year\"],\n",
        "    [1, \"Linus Torvalds\", \"Finland\", \"Linux Kernel\", 1991],\n",
        "    [2, \"Tim Berners-Lee\", \"England\", \"World Wide Web\", 1990],\n",
        "    [3, \"Guido van Rossum\", \"Netherlands\", \"Python\", 1991]\n",
        "]\n",
        "\n",
        "# Open (or create) the CSV file and write the data\n",
        "with open(\"contributors.csv\", mode=\"w\", newline=\"\") as file:\n",
        "    writer = csv.writer(file)\n",
        "\n",
        "    # Write the rows\n",
        "    writer.writerows(data)\n",
        "\n",
        "print(\"Data written to 'contributors.csv'\")\n"
      ]
    }
  ]
}