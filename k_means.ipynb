{
  "nbformat": 4,
  "nbformat_minor": 0,
  "metadata": {
    "colab": {
      "provenance": [],
      "authorship_tag": "ABX9TyP94qGADxb9ljwvREQkRycA",
      "include_colab_link": true
    },
    "kernelspec": {
      "name": "python3",
      "display_name": "Python 3"
    },
    "language_info": {
      "name": "python"
    }
  },
  "cells": [
    {
      "cell_type": "markdown",
      "metadata": {
        "id": "view-in-github",
        "colab_type": "text"
      },
      "source": [
        "<a href=\"https://colab.research.google.com/github/remyaP12/Remya_kid/blob/Remya_kidd/k_means.ipynb\" target=\"_parent\"><img src=\"https://colab.research.google.com/assets/colab-badge.svg\" alt=\"Open In Colab\"/></a>"
      ]
    },
    {
      "cell_type": "code",
      "execution_count": 5,
      "metadata": {
        "colab": {
          "base_uri": "https://localhost:8080/"
        },
        "id": "RxSwYOqhiYXk",
        "outputId": "f2785723-4a5a-4eaf-830b-136cb96903d1"
      },
      "outputs": [
        {
          "output_type": "stream",
          "name": "stdout",
          "text": [
            "Predicted class for VAR1=0.906 and VAR2=0.606: 1.0\n",
            "Precision: 0.67\n",
            "Recall: 1.00\n",
            "F1 Score: 0.80\n"
          ]
        }
      ],
      "source": [
        "import numpy as np\n",
        "from sklearn.cluster import KMeans\n",
        "from sklearn.metrics import precision_score, recall_score, f1_score\n",
        "\n",
        "# Provided data\n",
        "data = np.array([\n",
        "    [1.713, 1.586, 0],\n",
        "    [0.180, 1.786, 1],\n",
        "    [0.353, 1.240, 1],\n",
        "    [0.940, 1.566, 0],\n",
        "    [1.486, 0.759, 1],\n",
        "    [1.266, 1.106, 0],\n",
        "    [1.540, 0.419, 1],\n",
        "    [0.459, 1.799, 1],\n",
        "    [0.773, 0.186, 1]\n",
        "])\n",
        "\n",
        "# Separate features and labels\n",
        "X = data[:, :2]\n",
        "y_true = data[:, 2]\n",
        "\n",
        "# Apply k-means clustering with 3 clusters\n",
        "kmeans = KMeans(n_clusters=2, random_state=0)\n",
        "clusters = kmeans.fit_predict(X)\n",
        "\n",
        "# Determine the predominant class in each cluster\n",
        "cluster_labels = np.zeros(3)\n",
        "for i in range(2):\n",
        "    labels, counts = np.unique(y_true[clusters == i], return_counts=True)\n",
        "    cluster_labels[i] = labels[np.argmax(counts)]\n",
        "\n",
        "# Predict classes based on cluster labels\n",
        "y_pred = np.array([cluster_labels[cluster] for cluster in clusters])\n",
        "\n",
        "# Calculate precision, recall, and F1 score\n",
        "precision = precision_score(y_true, y_pred)\n",
        "recall = recall_score(y_true, y_pred)\n",
        "f1 = f1_score(y_true, y_pred)\n",
        "\n",
        "# Predict the class for the new data point\n",
        "new_point = np.array([[0.906, 0.606]])\n",
        "new_cluster = kmeans.predict(new_point)\n",
        "predicted_class = cluster_labels[new_cluster[0]]\n",
        "\n",
        "print(f\"Predicted class for VAR1=0.906 and VAR2=0.606: {predicted_class}\")\n",
        "print(f\"Precision: {precision:.2f}\")\n",
        "print(f\"Recall: {recall:.2f}\")\n",
        "print(f\"F1 Score: {f1:.2f}\")"
      ]
    }
  ]
}