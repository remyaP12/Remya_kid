{
  "nbformat": 4,
  "nbformat_minor": 0,
  "metadata": {
    "colab": {
      "provenance": [],
      "authorship_tag": "ABX9TyMCD5ZRU3/ycJpTf8GEggIn",
      "include_colab_link": true
    },
    "kernelspec": {
      "name": "python3",
      "display_name": "Python 3"
    },
    "language_info": {
      "name": "python"
    }
  },
  "cells": [
    {
      "cell_type": "markdown",
      "metadata": {
        "id": "view-in-github",
        "colab_type": "text"
      },
      "source": [
        "<a href=\"https://colab.research.google.com/github/remyaP12/Remya_kid/blob/Remya_kidd/k_means.ipynb\" target=\"_parent\"><img src=\"https://colab.research.google.com/assets/colab-badge.svg\" alt=\"Open In Colab\"/></a>"
      ]
    },
    {
      "cell_type": "code",
      "execution_count": 2,
      "metadata": {
        "colab": {
          "base_uri": "https://localhost:8080/"
        },
        "id": "RxSwYOqhiYXk",
        "outputId": "172e1f56-7759-44fd-af5d-e47295cb8d23"
      },
      "outputs": [
        {
          "output_type": "stream",
          "name": "stdout",
          "text": [
            "Precision: 0.3\n",
            "Recall: 0.4444444444444444\n",
            "F1 Score: 0.35714285714285715\n",
            "Predicted cluster for new case: 0\n"
          ]
        },
        {
          "output_type": "stream",
          "name": "stderr",
          "text": [
            "/usr/local/lib/python3.11/dist-packages/sklearn/metrics/_classification.py:1565: UndefinedMetricWarning: Precision is ill-defined and being set to 0.0 in labels with no predicted samples. Use `zero_division` parameter to control this behavior.\n",
            "  _warn_prf(average, modifier, f\"{metric.capitalize()} is\", len(result))\n"
          ]
        }
      ],
      "source": [
        "import numpy as np\n",
        "from sklearn.cluster import KMeans\n",
        "from sklearn.metrics import precision_score, recall_score, f1_score\n",
        "\n",
        "# Example data: 9 combinations of VAR1 and VAR2 (replace with your actual data)\n",
        "data = np.array([[0.1, 0.2],\n",
        "                 [0.3, 0.4],\n",
        "                 [0.5, 0.6],\n",
        "                 [0.7, 0.8],\n",
        "                 [0.2, 0.9],\n",
        "                 [0.4, 0.7],\n",
        "                 [0.6, 0.5],\n",
        "                 [0.8, 0.3],\n",
        "                 [0.9, 0.6]])\n",
        "\n",
        "# True labels: These should be the actual labels for your data (replace with the true labels)\n",
        "true_labels = np.array([0, 1, 1, 0, 2, 2, 0, 1, 2])\n",
        "\n",
        "# Perform KMeans clustering with 3 clusters\n",
        "kmeans = KMeans(n_clusters=2, random_state=42)\n",
        "predicted_labels = kmeans.fit_predict(data)\n",
        "\n",
        "# Predict the label for the new case (VAR1=0.906, VAR2=0.606)\n",
        "new_case = np.array([[0.906, 0.606]])\n",
        "predicted_new_case_cluster = kmeans.predict(new_case)\n",
        "\n",
        "# Calculate precision, recall, and F1 score\n",
        "# In clustering, precision, recall, and F1 score require us to match predicted clusters to actual labels.\n",
        "# The clustering results need to be mapped to the true classes.\n",
        "# You could map cluster labels to true labels manually if possible. Here, we assume that.\n",
        "\n",
        "# Here we assume a simple matching of clusters to true labels. Adjust the mapping accordingly:\n",
        "cluster_to_true_label_mapping = {0: 0, 1: 1, 2: 2}  # Map clusters to true classes (adjust if needed)\n",
        "mapped_predicted_labels = np.array([cluster_to_true_label_mapping[label] for label in predicted_labels])\n",
        "\n",
        "# Now calculate precision, recall, and F1 score\n",
        "precision = precision_score(true_labels, mapped_predicted_labels, average='macro')\n",
        "recall = recall_score(true_labels, mapped_predicted_labels, average='macro')\n",
        "f1 = f1_score(true_labels, mapped_predicted_labels, average='macro')\n",
        "\n",
        "print(f\"Precision: {precision}\")\n",
        "print(f\"Recall: {recall}\")\n",
        "print(f\"F1 Score: {f1}\")\n",
        "\n",
        "# Output prediction for the new case\n",
        "print(f\"Predicted cluster for new case: {predicted_new_case_cluster[0]}\")\n"
      ]
    }
  ]
}